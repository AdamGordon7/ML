{
 "cells": [
  {
   "cell_type": "code",
   "execution_count": 1222,
   "id": "281b76c8",
   "metadata": {},
   "outputs": [],
   "source": [
    "import numpy as np\n",
    "import matplotlib.pyplot as plt"
   ]
  },
  {
   "cell_type": "markdown",
   "id": "90200a6a",
   "metadata": {},
   "source": [
    "Q4 a"
   ]
  },
  {
   "cell_type": "code",
   "execution_count": 1223,
   "id": "30b083f4",
   "metadata": {},
   "outputs": [
    {
     "name": "stdout",
     "output_type": "stream",
     "text": [
      "[ 16.15254629   1.60484626   2.23958721  18.54708744   4.450424\n",
      "  -6.7043063    7.55353394   1.73904784 -17.28362016  16.94787887\n",
      "   0.89934762  -4.5592849  -25.53546274   3.42109047  20.36358788\n",
      "   1.44064875   5.81216545 -15.59742338   4.30205731 -25.41418236\n",
      "  -5.67898509  -1.03941428   0.76714969  -2.64866668  -0.80466938\n",
      "   7.56128057  -5.64498899  14.31304304   7.57764198  -8.14150458\n",
      "  17.59347198  -2.02499625  -4.55816858  -6.44729983   0.35350238\n",
      "  -8.86940669   0.19694465  14.9565883    7.84002935   2.00923643\n",
      "  15.2182399   10.95548896 -17.78119593 -21.3419214   -3.6280453\n",
      "  17.36396761   7.55401356   4.52954413  -2.81384023  24.13779568\n",
      "  11.94788965   7.81531852  -7.10533595  14.03879416  -4.28206333\n",
      "  -5.56046469 -20.38787853  -8.37368169  -4.83471703  -4.49332204\n",
      "  -9.07346329   5.41998236  11.54934113  -1.6082645  -14.91773262\n",
      "  19.96233198  12.42549685  -4.62754702 -11.27916144   9.55888067\n",
      " -11.45629014  -0.44966332   8.76487479  -0.22836476  -7.50242072\n",
      " -21.93244923  -4.3244464    1.73321739  -3.34661868  -1.16650769\n",
      " -16.01671064  -3.30890791  -8.16336433  -9.34503044  12.33885662\n",
      " -16.79400029  13.40811577   5.06260061  -1.86998706  15.89926187\n",
      "   5.80791518   0.30459807  10.08051224 -18.36143738  -4.37987169\n",
      "   3.61840309  -3.02916563 -10.32826517   4.21248595  16.65915554\n",
      "   0.36484278  -2.26705107 -10.43801215   4.67831807  -5.91514532\n",
      "  -0.79331153   5.4784292    7.76187658  -4.1445463    6.21862153\n",
      "   4.41193102   1.21042091  -7.51261545  19.2219398   24.94357042\n",
      "   9.48526692  -3.20861231  -7.06458927 -14.84022619  -4.49576758\n",
      "  -6.30438889   1.50743819  26.23775002  15.3819458   -2.20420186\n",
      "   7.39852522   4.61251503   3.30245794   8.24408843 -20.69563373\n",
      " -16.74122852   5.43653297  -9.55396422   3.52187223  19.62621819\n",
      "  -3.89950317   0.59783681 -15.44629     -2.99230773  -0.55205627\n",
      "   5.67458376   8.41381022  -2.01138407   4.88910416  -4.25752307\n",
      "   1.30860242  -0.36421337 -12.85658349   5.17076002  -6.95736526]\n"
     ]
    }
   ],
   "source": [
    "#i)\n",
    "#Sample 150 x-values from a Normal distribution using a mean of 0 and standard deviation of 10.\n",
    "#np.random.seed(1)\n",
    "data=np.random.normal(loc=0,scale=10,size=150)\n",
    "print(data)"
   ]
  },
  {
   "cell_type": "code",
   "execution_count": 1224,
   "id": "de9be123",
   "metadata": {},
   "outputs": [
    {
     "name": "stdout",
     "output_type": "stream",
     "text": [
      "[[ 1.00000000e+00  1.61525463e+01  2.60904752e+02]\n",
      " [ 1.00000000e+00  1.60484626e+00  2.57553151e+00]\n",
      " [ 1.00000000e+00  2.23958721e+00  5.01575087e+00]\n",
      " [ 1.00000000e+00  1.85470874e+01  3.43994453e+02]\n",
      " [ 1.00000000e+00  4.45042400e+00  1.98062737e+01]\n",
      " [ 1.00000000e+00 -6.70430630e+00  4.49477229e+01]\n",
      " [ 1.00000000e+00  7.55353394e+00  5.70558750e+01]\n",
      " [ 1.00000000e+00  1.73904784e+00  3.02428740e+00]\n",
      " [ 1.00000000e+00 -1.72836202e+01  2.98723526e+02]\n",
      " [ 1.00000000e+00  1.69478789e+01  2.87230598e+02]\n",
      " [ 1.00000000e+00  8.99347615e-01  8.08826133e-01]\n",
      " [ 1.00000000e+00 -4.55928490e+00  2.07870788e+01]\n",
      " [ 1.00000000e+00 -2.55354627e+01  6.52059858e+02]\n",
      " [ 1.00000000e+00  3.42109047e+00  1.17038600e+01]\n",
      " [ 1.00000000e+00  2.03635879e+01  4.14675711e+02]\n",
      " [ 1.00000000e+00  1.44064875e+00  2.07546883e+00]\n",
      " [ 1.00000000e+00  5.81216545e+00  3.37812672e+01]\n",
      " [ 1.00000000e+00 -1.55974234e+01  2.43279616e+02]\n",
      " [ 1.00000000e+00  4.30205731e+00  1.85076971e+01]\n",
      " [ 1.00000000e+00 -2.54141824e+01  6.45880665e+02]\n",
      " [ 1.00000000e+00 -5.67898509e+00  3.22508716e+01]\n",
      " [ 1.00000000e+00 -1.03941428e+00  1.08038205e+00]\n",
      " [ 1.00000000e+00  7.67149687e-01  5.88518642e-01]\n",
      " [ 1.00000000e+00 -2.64866668e+00  7.01543517e+00]\n",
      " [ 1.00000000e+00 -8.04669378e-01  6.47492808e-01]\n",
      " [ 1.00000000e+00  7.56128057e+00  5.71729639e+01]\n",
      " [ 1.00000000e+00 -5.64498899e+00  3.18659008e+01]\n",
      " [ 1.00000000e+00  1.43130430e+01  2.04863201e+02]\n",
      " [ 1.00000000e+00  7.57764198e+00  5.74206580e+01]\n",
      " [ 1.00000000e+00 -8.14150458e+00  6.62840968e+01]\n",
      " [ 1.00000000e+00  1.75934720e+01  3.09530256e+02]\n",
      " [ 1.00000000e+00 -2.02499625e+00  4.10060983e+00]\n",
      " [ 1.00000000e+00 -4.55816858e+00  2.07769008e+01]\n",
      " [ 1.00000000e+00 -6.44729983e+00  4.15676751e+01]\n",
      " [ 1.00000000e+00  3.53502378e-01  1.24963931e-01]\n",
      " [ 1.00000000e+00 -8.86940669e+00  7.86663751e+01]\n",
      " [ 1.00000000e+00  1.96944652e-01  3.87871959e-02]\n",
      " [ 1.00000000e+00  1.49565883e+01  2.23699534e+02]\n",
      " [ 1.00000000e+00  7.84002935e+00  6.14660602e+01]\n",
      " [ 1.00000000e+00  2.00923643e+00  4.03703103e+00]\n",
      " [ 1.00000000e+00  1.52182399e+01  2.31594826e+02]\n",
      " [ 1.00000000e+00  1.09554890e+01  1.20022738e+02]\n",
      " [ 1.00000000e+00 -1.77811959e+01  3.16170929e+02]\n",
      " [ 1.00000000e+00 -2.13419214e+01  4.55477609e+02]\n",
      " [ 1.00000000e+00 -3.62804530e+00  1.31627127e+01]\n",
      " [ 1.00000000e+00  1.73639676e+01  3.01507371e+02]\n",
      " [ 1.00000000e+00  7.55401356e+00  5.70631209e+01]\n",
      " [ 1.00000000e+00  4.52954413e+00  2.05167700e+01]\n",
      " [ 1.00000000e+00 -2.81384023e+00  7.91769684e+00]\n",
      " [ 1.00000000e+00  2.41377957e+01  5.82633180e+02]\n",
      " [ 1.00000000e+00  1.19478896e+01  1.42752067e+02]\n",
      " [ 1.00000000e+00  7.81531852e+00  6.10792036e+01]\n",
      " [ 1.00000000e+00 -7.10533595e+00  5.04857990e+01]\n",
      " [ 1.00000000e+00  1.40387942e+01  1.97087741e+02]\n",
      " [ 1.00000000e+00 -4.28206333e+00  1.83360664e+01]\n",
      " [ 1.00000000e+00 -5.56046469e+00  3.09187676e+01]\n",
      " [ 1.00000000e+00 -2.03878785e+01  4.15665591e+02]\n",
      " [ 1.00000000e+00 -8.37368169e+00  7.01185451e+01]\n",
      " [ 1.00000000e+00 -4.83471703e+00  2.33744888e+01]\n",
      " [ 1.00000000e+00 -4.49332204e+00  2.01899429e+01]\n",
      " [ 1.00000000e+00 -9.07346329e+00  8.23277361e+01]\n",
      " [ 1.00000000e+00  5.41998236e+00  2.93762088e+01]\n",
      " [ 1.00000000e+00  1.15493411e+01  1.33387280e+02]\n",
      " [ 1.00000000e+00 -1.60826450e+00  2.58651472e+00]\n",
      " [ 1.00000000e+00 -1.49177326e+01  2.22538747e+02]\n",
      " [ 1.00000000e+00  1.99623320e+01  3.98494698e+02]\n",
      " [ 1.00000000e+00  1.24254969e+01  1.54392972e+02]\n",
      " [ 1.00000000e+00 -4.62754702e+00  2.14141914e+01]\n",
      " [ 1.00000000e+00 -1.12791614e+01  1.27219483e+02]\n",
      " [ 1.00000000e+00  9.55888067e+00  9.13721996e+01]\n",
      " [ 1.00000000e+00 -1.14562901e+01  1.31246584e+02]\n",
      " [ 1.00000000e+00 -4.49663321e-01  2.02197103e-01]\n",
      " [ 1.00000000e+00  8.76487479e+00  7.68230301e+01]\n",
      " [ 1.00000000e+00 -2.28364764e-01  5.21504655e-02]\n",
      " [ 1.00000000e+00 -7.50242072e+00  5.62863166e+01]\n",
      " [ 1.00000000e+00 -2.19324492e+01  4.81032329e+02]\n",
      " [ 1.00000000e+00 -4.32444640e+00  1.87008367e+01]\n",
      " [ 1.00000000e+00  1.73321739e+00  3.00404253e+00]\n",
      " [ 1.00000000e+00 -3.34661868e+00  1.11998566e+01]\n",
      " [ 1.00000000e+00 -1.16650769e+00  1.36074019e+00]\n",
      " [ 1.00000000e+00 -1.60167106e+01  2.56535020e+02]\n",
      " [ 1.00000000e+00 -3.30890791e+00  1.09488716e+01]\n",
      " [ 1.00000000e+00 -8.16336433e+00  6.66405172e+01]\n",
      " [ 1.00000000e+00 -9.34503044e+00  8.73295939e+01]\n",
      " [ 1.00000000e+00  1.23388566e+01  1.52247383e+02]\n",
      " [ 1.00000000e+00 -1.67940003e+01  2.82038446e+02]\n",
      " [ 1.00000000e+00  1.34081158e+01  1.79777568e+02]\n",
      " [ 1.00000000e+00  5.06260061e+00  2.56299249e+01]\n",
      " [ 1.00000000e+00 -1.86998706e+00  3.49685162e+00]\n",
      " [ 1.00000000e+00  1.58992619e+01  2.52786528e+02]\n",
      " [ 1.00000000e+00  5.80791518e+00  3.37318787e+01]\n",
      " [ 1.00000000e+00  3.04598071e-01  9.27799849e-02]\n",
      " [ 1.00000000e+00  1.00805122e+01  1.01616727e+02]\n",
      " [ 1.00000000e+00 -1.83614374e+01  3.37142383e+02]\n",
      " [ 1.00000000e+00 -4.37987169e+00  1.91832760e+01]\n",
      " [ 1.00000000e+00  3.61840309e+00  1.30928409e+01]\n",
      " [ 1.00000000e+00 -3.02916563e+00  9.17584441e+00]\n",
      " [ 1.00000000e+00 -1.03282652e+01  1.06673061e+02]\n",
      " [ 1.00000000e+00  4.21248595e+00  1.77450379e+01]\n",
      " [ 1.00000000e+00  1.66591555e+01  2.77527463e+02]\n",
      " [ 1.00000000e+00  3.64842780e-01  1.33110254e-01]\n",
      " [ 1.00000000e+00 -2.26705107e+00  5.13952058e+00]\n",
      " [ 1.00000000e+00 -1.04380121e+01  1.08952098e+02]\n",
      " [ 1.00000000e+00  4.67831807e+00  2.18866600e+01]\n",
      " [ 1.00000000e+00 -5.91514532e+00  3.49889442e+01]\n",
      " [ 1.00000000e+00 -7.93311531e-01  6.29343186e-01]\n",
      " [ 1.00000000e+00  5.47842920e+00  3.00131865e+01]\n",
      " [ 1.00000000e+00  7.76187658e+00  6.02467281e+01]\n",
      " [ 1.00000000e+00 -4.14454630e+00  1.71772641e+01]\n",
      " [ 1.00000000e+00  6.21862153e+00  3.86712537e+01]\n",
      " [ 1.00000000e+00  4.41193102e+00  1.94651353e+01]\n",
      " [ 1.00000000e+00  1.21042091e+00  1.46511878e+00]\n",
      " [ 1.00000000e+00 -7.51261545e+00  5.64393909e+01]\n",
      " [ 1.00000000e+00  1.92219398e+01  3.69482970e+02]\n",
      " [ 1.00000000e+00  2.49435704e+01  6.22181705e+02]\n",
      " [ 1.00000000e+00  9.48526692e+00  8.99702886e+01]\n",
      " [ 1.00000000e+00 -3.20861231e+00  1.02951929e+01]\n",
      " [ 1.00000000e+00 -7.06458927e+00  4.99084215e+01]\n",
      " [ 1.00000000e+00 -1.48402262e+01  2.20232313e+02]\n",
      " [ 1.00000000e+00 -4.49576758e+00  2.02119262e+01]\n",
      " [ 1.00000000e+00 -6.30438889e+00  3.97453192e+01]\n",
      " [ 1.00000000e+00  1.50743819e+00  2.27236991e+00]\n",
      " [ 1.00000000e+00  2.62377500e+01  6.88419526e+02]\n",
      " [ 1.00000000e+00  1.53819458e+01  2.36604257e+02]\n",
      " [ 1.00000000e+00 -2.20420186e+00  4.85850583e+00]\n",
      " [ 1.00000000e+00  7.39852522e+00  5.47381754e+01]\n",
      " [ 1.00000000e+00  4.61251503e+00  2.12752949e+01]\n",
      " [ 1.00000000e+00  3.30245794e+00  1.09062284e+01]\n",
      " [ 1.00000000e+00  8.24408843e+00  6.79649941e+01]\n",
      " [ 1.00000000e+00 -2.06956337e+01  4.28309256e+02]\n",
      " [ 1.00000000e+00 -1.67412285e+01  2.80268733e+02]\n",
      " [ 1.00000000e+00  5.43653297e+00  2.95558908e+01]\n",
      " [ 1.00000000e+00 -9.55396422e+00  9.12782323e+01]\n",
      " [ 1.00000000e+00  3.52187223e+00  1.24035840e+01]\n",
      " [ 1.00000000e+00  1.96262182e+01  3.85188441e+02]\n",
      " [ 1.00000000e+00 -3.89950317e+00  1.52061250e+01]\n",
      " [ 1.00000000e+00  5.97836809e-01  3.57408850e-01]\n",
      " [ 1.00000000e+00 -1.54462900e+01  2.38587875e+02]\n",
      " [ 1.00000000e+00 -2.99230773e+00  8.95390556e+00]\n",
      " [ 1.00000000e+00 -5.52056267e-01  3.04766122e-01]\n",
      " [ 1.00000000e+00  5.67458376e+00  3.22009008e+01]\n",
      " [ 1.00000000e+00  8.41381022e+00  7.07922024e+01]\n",
      " [ 1.00000000e+00 -2.01138407e+00  4.04566587e+00]\n",
      " [ 1.00000000e+00  4.88910416e+00  2.39033395e+01]\n",
      " [ 1.00000000e+00 -4.25752307e+00  1.81265027e+01]\n",
      " [ 1.00000000e+00  1.30860242e+00  1.71244031e+00]\n",
      " [ 1.00000000e+00 -3.64213373e-01  1.32651381e-01]\n",
      " [ 1.00000000e+00 -1.28565835e+01  1.65291739e+02]\n",
      " [ 1.00000000e+00  5.17076002e+00  2.67367592e+01]\n",
      " [ 1.00000000e+00 -6.95736526e+00  4.84049313e+01]]\n"
     ]
    }
   ],
   "source": [
    "#ii)\n",
    "\n",
    "design_matrix=[]\n",
    "for i in data:\n",
    "    row=[1,i,i**2]\n",
    "    design_matrix.append(row)\n",
    "\n",
    "design_matrix=np.array(design_matrix)\n",
    "print(design_matrix)\n",
    "   "
   ]
  },
  {
   "cell_type": "code",
   "execution_count": 1225,
   "id": "ec8f7519",
   "metadata": {},
   "outputs": [
    {
     "name": "stdout",
     "output_type": "stream",
     "text": [
      "[0.26636259 0.98627482 0.77943831]\n"
     ]
    }
   ],
   "source": [
    "#iii\n",
    "#true_theta=np.random.normal(loc=0,scale=1,size=3)\n",
    "true_theta=np.random.uniform(size=3)\n",
    "print(true_theta)\n"
   ]
  },
  {
   "cell_type": "code",
   "execution_count": 1226,
   "id": "db7afce5",
   "metadata": {},
   "outputs": [
    {
     "name": "stdout",
     "output_type": "stream",
     "text": [
      "[ 2.18287656e+02  2.95248247e+00  4.95852815e+00  2.90183108e+02\n",
      "  1.78310191e+01  2.52169767e+01  5.03899453e+01  5.07436155e+00\n",
      "  2.13965846e+02  2.44149034e+02  1.60513830e+00  1.23446406e+01\n",
      "  4.80071774e+02  1.48581703e+01  3.45788494e+02  3.87943108e+00\n",
      "  3.06760833e+01  1.75995336e+02  2.23922218e+01  4.74975744e+02\n",
      "  1.75853082e+01 -1.47419896e+00  3.46583064e+00  4.33780331e+00\n",
      " -2.27266936e+00  5.09465052e+01  1.95591662e+01  1.71995841e+02\n",
      "  5.20237149e+01  4.71048485e+01  2.59657378e+02  1.16191883e+00\n",
      "  1.29474552e+01  2.22426406e+01  4.33388233e+00  5.45862629e+01\n",
      "  2.27463137e+00  1.90705478e+02  5.54623255e+01  9.05295318e+00\n",
      "  1.99279166e+02  1.05057493e+02  2.30549469e+02  3.37998669e+02\n",
      "  5.26865115e+00  2.53916417e+02  5.27082408e+01  2.05212987e+01\n",
      "  6.71223302e+00  4.75808671e+02  1.19556201e+02  5.24042608e+01\n",
      "  3.53615606e+01  1.66387509e+02  8.66120042e+00  2.06633448e+01\n",
      "  3.03171429e+02  4.32979304e+01  1.38117118e+01  9.35372777e+00\n",
      "  5.33565033e+01  3.12702541e+01  1.13053790e+02  3.96249409e+00\n",
      "  1.59956788e+02  3.31351958e+02  1.38237627e+02  1.13068306e+01\n",
      "  8.73608519e+01  7.99680689e+01  9.77508989e+01 -3.23578260e+00\n",
      "  6.83462186e+01  8.50978467e-02  3.77604243e+01  3.54698153e+02\n",
      "  7.88431374e+00  4.14370366e+00  4.33327070e+00  3.41726257e+00\n",
      "  1.80995433e+02  4.28568449e+00  4.76816044e+01  5.97856004e+01\n",
      "  1.28516904e+02  2.03300649e+02  1.54874404e+02  2.36373569e+01\n",
      "  1.27185418e-01  2.15302810e+02  3.12204607e+01 -5.57354412e-01\n",
      "  9.23817583e+01  2.48651022e+02  1.26381683e+01  1.32150357e+01\n",
      "  2.56083827e+00  7.24055583e+01  2.11659655e+01  2.36317971e+02\n",
      " -1.56040346e+00 -1.09186257e+00  7.40119432e+01  1.91359727e+01\n",
      "  2.15007982e+01 -2.44405145e+00  2.88782212e+01  5.46957876e+01\n",
      "  8.68932072e+00  3.62524842e+01  1.82567907e+01  2.64853484e+00\n",
      "  3.80947312e+01  3.07805129e+02  5.11424075e+02  7.82485244e+01\n",
      "  6.41045246e+00  3.27368255e+01  1.53642554e+02  1.03680924e+01\n",
      "  2.61593035e+01  4.01963553e+00  5.63350757e+02  2.02961441e+02\n",
      "  1.03458471e+00  4.98944549e+01  2.06145683e+01  1.24968144e+01\n",
      "  5.93559764e+01  3.14852535e+02  1.99567863e+02  2.48364347e+01\n",
      "  6.43978522e+01  1.30761598e+01  3.20543790e+02  9.31458702e+00\n",
      " -1.38504548e+00  1.75195004e+02  8.39104301e+00  9.46816235e-02\n",
      "  2.71216226e+01  6.76198009e+01  2.56185044e+00  2.40419509e+01\n",
      "  1.18579553e+01  3.55444528e+00  1.18422439e-01  1.18288855e+02\n",
      "  2.46422916e+01  2.87720323e+01]\n"
     ]
    }
   ],
   "source": [
    "#iv\n",
    "y=lambda x: true_theta[0]+true_theta[1]*x+true_theta[2]*x**2\n",
    "y_vals=[]\n",
    "count=0\n",
    "for i in data:\n",
    "    y_vals.append(y(i))\n",
    "\n",
    "y_vals=np.array(y_vals)\n",
    "y_vals = np.random.normal(y_vals, 2)\n",
    "print(y_vals)"
   ]
  },
  {
   "cell_type": "code",
   "execution_count": 1227,
   "id": "545d5411",
   "metadata": {},
   "outputs": [
    {
     "data": {
      "text/plain": [
       "<function matplotlib.pyplot.show(close=None, block=None)>"
      ]
     },
     "execution_count": 1227,
     "metadata": {},
     "output_type": "execute_result"
    },
    {
     "data": {
      "image/png": "[encoded data removed]",
      "text/plain": [
       "<Figure size 432x288 with 1 Axes>"
      ]
     },
     "metadata": {
      "needs_background": "light"
     },
     "output_type": "display_data"
    }
   ],
   "source": [
    "#v\n",
    "plt.scatter(data,y_vals)\n",
    "plt.xlabel(\"x\")\n",
    "plt.ylabel(\"y\")\n",
    "plt.title(\"Example a\")\n",
    "plt.show"
   ]
  },
  {
   "cell_type": "code",
   "execution_count": 1228,
   "id": "4c69f25f",
   "metadata": {},
   "outputs": [
    {
     "data": {
      "text/plain": [
       "'\\nprint(\"Trainging set: \",training_set)\\nprint(\"Validation set: \", validation_set)\\nprint(\"Training set: \",training_set)\\n'"
      ]
     },
     "execution_count": 1228,
     "metadata": {},
     "output_type": "execute_result"
    }
   ],
   "source": [
    "#vi\n",
    "split_ratio = 3/4\n",
    "validation_split_ratio = 4/5\n",
    "#take size of dataset and multiply by split ratio to get index of testing data\n",
    "testing_split_index = round(data.shape[0] * split_ratio)\n",
    "#use validation ratio to split into testing and validation\n",
    "validation_split_index = round(testing_split_index * validation_split_ratio)\n",
    "# training set\n",
    "#using inexes for splits done above generate datasets\n",
    "training_x_values = data[:validation_split_index]#index form 0 to index from above \n",
    "training_y_values = y_vals[:validation_split_index]#same for y vals\n",
    "training_set=[training_x_values,training_y_values]#combine into one dataset\n",
    "# validation set\n",
    "validation_x_values = data[validation_split_index:testing_split_index]#index from val index to the testing index (90-112)\n",
    "validation_y_values = y_vals[validation_split_index:testing_split_index]#same for y vals\n",
    "validation_set=[validation_x_values,validation_y_values]\n",
    "# testing set\n",
    "testing_x_values = data[testing_split_index:]#index from testingf splt to the end (112-150)\n",
    "testing_y_values = y_vals[testing_split_index:]#same for y\n",
    "testing_set=[testing_x_values,testing_y_values]\n",
    "\n",
    "\"\"\"\n",
    "print(\"Trainging set: \",training_set)\n",
    "print(\"Validation set: \", validation_set)\n",
    "print(\"Training set: \",training_set)\n",
    "\"\"\"\n"
   ]
  },
  {
   "cell_type": "markdown",
   "id": "aeedaf79",
   "metadata": {},
   "source": [
    "Q4 b\n"
   ]
  },
  {
   "cell_type": "code",
   "execution_count": 1229,
   "id": "625110d6",
   "metadata": {},
   "outputs": [
    {
     "name": "stdout",
     "output_type": "stream",
     "text": [
      "[0.35464189 1.00606658 0.77927576]\n"
     ]
    }
   ],
   "source": [
    "#i\n",
    "def calc_design_matrix(x):\n",
    "    design_matrix=[]\n",
    "    for i in x:\n",
    "        row=[1,i,i**2]\n",
    "        design_matrix.append(row)\n",
    "\n",
    "    design_matrix=np.array(design_matrix)\n",
    "    return design_matrix\n",
    "\n",
    "def closed_form_soln(training_set):\n",
    "    training_design_matrix=calc_design_matrix(training_set[0])\n",
    "    theta=np.linalg.inv(training_design_matrix.transpose().dot(training_design_matrix)).dot(training_design_matrix.transpose()).dot(training_set[1])\n",
    "    return theta\n",
    "\n",
    "closed_form_soln_thetas=closed_form_soln(training_set)\n",
    "print(closed_form_soln(training_set))"
   ]
  },
  {
   "cell_type": "code",
   "execution_count": 1230,
   "id": "b8e2f2fd",
   "metadata": {},
   "outputs": [],
   "source": [
    "#ii\n",
    "#[0.26636259 0.98627482 0.77943831] true\n",
    "#[0.35464189 1.00606658 0.77927576]calc with closed form soln\n",
    "#therefore very close"
   ]
  },
  {
   "cell_type": "code",
   "execution_count": 1231,
   "id": "b87827b9",
   "metadata": {},
   "outputs": [
    {
     "name": "stdout",
     "output_type": "stream",
     "text": [
      "Training error:  236.18885145109022\n",
      "Validation error:  43.377042627265425\n",
      "Testing error:  79.45700171332469\n"
     ]
    }
   ],
   "source": [
    "#iii\n",
    "def calc_error(y_true, y_hat):\n",
    "    store_errors=[]\n",
    "    for i in range(len(y_true)):\n",
    "        calc_errors=(y_true[i]-y_hat[i])**2\n",
    "        store_errors.append(calc_errors)\n",
    "    error=(sum(store_errors))/2\n",
    "    return error\n",
    "\n",
    "def calc_error_gd(y_true, y_hat):\n",
    "    store_errors=[]\n",
    "    for i in range(len(y_true)):\n",
    "        calc_errors=(y_true[i]-y_hat[i])**2\n",
    "        store_errors.append(calc_errors)\n",
    "    error=(sum(store_errors))\n",
    "    return error\n",
    "\n",
    "y_hat_training=[]\n",
    "for i in training_set[0]:\n",
    "    predicted_val=closed_form_soln_thetas[0]+(closed_form_soln_thetas[1]*i)+(closed_form_soln_thetas[2]*i**2)\n",
    "    y_hat_training.append(predicted_val)\n",
    "\n",
    "error_t=calc_error(training_set[1],y_hat_training)\n",
    "print(\"Training error: \",error_t)\n",
    "\n",
    "y_hat_validation=[]\n",
    "for i in validation_set[0]:\n",
    "     predicted_val=closed_form_soln_thetas[0]+(closed_form_soln_thetas[1]*i)+(closed_form_soln_thetas[2]*i**2)\n",
    "     y_hat_validation.append(predicted_val)\n",
    "\n",
    "error_v=calc_error(validation_set[1],y_hat_validation)\n",
    "print(\"Validation error: \", error_v)\n",
    "\n",
    "y_hat_testing=[]\n",
    "for i in testing_set[0]:\n",
    "    predicted_val=closed_form_soln_thetas[0]+(closed_form_soln_thetas[1]*i)+(closed_form_soln_thetas[2]*i**2)\n",
    "    y_hat_testing.append(predicted_val)\n",
    "error_test=calc_error(testing_set[1],y_hat_testing)\n",
    "print(\"Testing error: \",error_test)"
   ]
  },
  {
   "cell_type": "code",
   "execution_count": 1232,
   "id": "5303725f",
   "metadata": {},
   "outputs": [
    {
     "data": {
      "text/plain": [
       "[<matplotlib.lines.Line2D at 0x7faa5b3707f0>]"
      ]
     },
     "execution_count": 1232,
     "metadata": {},
     "output_type": "execute_result"
    },
    {
     "data": {
      "image/png": "[encoded data removed]",
      "text/plain": [
       "<Figure size 432x288 with 1 Axes>"
      ]
     },
     "metadata": {
      "needs_background": "light"
     },
     "output_type": "display_data"
    }
   ],
   "source": [
    "#iv\n",
    "sorted_x = np.sort(data)\n",
    "plt.scatter(data, y_vals,color=\"blue\")\n",
    "to_plot_y=[]\n",
    "for i in sorted_x:\n",
    "    predicted_val=closed_form_soln_thetas[0]+(closed_form_soln_thetas[1]*i)+(closed_form_soln_thetas[2]*i**2)\n",
    "    to_plot_y.append(predicted_val)\n",
    "plt.plot(sorted_x,np.array(to_plot_y),color=\"red\")"
   ]
  },
  {
   "cell_type": "code",
   "execution_count": 1458,
   "id": "d20904b7",
   "metadata": {},
   "outputs": [
    {
     "name": "stdout",
     "output_type": "stream",
     "text": [
      "Theta values:  [0.10204560226698793, 0.10634056746110382, 0.7373920657172968]\n"
     ]
    }
   ],
   "source": [
    "\n",
    "\"\"\"\n",
    "def gradient_decent_2(design_matrix,y_vals,alpha,theta,stop):\n",
    "    errors=[]\n",
    "    for i in range(stop):\n",
    "        prediction=np.matmul(design_matrix,theta)\n",
    "        error=prediction-y_vals\n",
    "        grad=np.matmul(design_matrix.transpose(),error)/training_x_values.shape[0]\n",
    "        theta=theta-alpha*grad\n",
    "        errors.append(calc_error(y_vals,prediction))\n",
    "    return [theta,errors]\n",
    "\n",
    "init_theta=np.random.uniform(0,1,3)\n",
    "theta_s,error_gd=gradient_decent_2(calc_design_matrix(training_x_values),training_y_values,0.00001,init_theta,450)\n",
    "print(theta_s)\n",
    "\"\"\"\n",
    "\n",
    "\n",
    "\n",
    "\n",
    "def gradient_decent_2(design_matrix,y_vals,alpha,theta,stop):\n",
    "    theta0=theta[0]\n",
    "    theta1=theta[1]\n",
    "    theta2=theta[2]\n",
    "    #predicted_vals_final=[]\n",
    "    store_error_totals=[]\n",
    "    for i in range(stop):\n",
    "        predicted_vals=[]\n",
    "        for j in range(len(design_matrix)):\n",
    "            predicted_val=theta0+(theta1*design_matrix[j])+(theta2*(design_matrix[j]**2))\n",
    "            loss=predicted_val-y_vals[j]\n",
    "            predicted_vals.append(predicted_val)\n",
    "            theta0=theta0-alpha*(loss)\n",
    "            theta1=theta1-alpha*(loss)*(design_matrix[j])\n",
    "            theta2=theta2-alpha*(loss)*(design_matrix[j]**2)\n",
    "        \n",
    "        store_error_totals.append(calc_error(y_vals,predicted_vals))\n",
    "\n",
    "\n",
    "    theta=[theta0,theta1,theta2]\n",
    "    return [theta,store_error_totals]\n",
    "\n",
    "training_design_matrix=calc_design_matrix(training_x_values)\n",
    "theta_s,error_gd=gradient_decent_2(training_x_values,training_y_values,0.000000002,[0.1,0.1,0.1],400)\n",
    "\n",
    "print(\"Theta values: \",theta_s)\n"
   ]
  },
  {
   "cell_type": "code",
   "execution_count": 1459,
   "id": "a6e9deee",
   "metadata": {},
   "outputs": [
    {
     "data": {
      "text/plain": [
       "[<matplotlib.lines.Line2D at 0x7faa620b3640>]"
      ]
     },
     "execution_count": 1459,
     "metadata": {},
     "output_type": "execute_result"
    },
    {
     "data": {
      "image/png": "[encoded data removed]",
      "text/plain": [
       "<Figure size 432x288 with 1 Axes>"
      ]
     },
     "metadata": {
      "needs_background": "light"
     },
     "output_type": "display_data"
    }
   ],
   "source": [
    "sorted_data=np.sort(data)\n",
    "plt.scatter(data,y_vals,color=\"blue\")\n",
    "plt.plot(sorted_data,theta_s[0]+theta_s[1]*sorted_data+theta_s[2]*(sorted_data**2),color=\"red\")"
   ]
  },
  {
   "cell_type": "code",
   "execution_count": 1460,
   "metadata": {},
   "outputs": [
    {
     "name": "stdout",
     "output_type": "stream",
     "text": [
      "Training error:  7588.657643093706\n",
      "Validation error:  790.5208607893879\n",
      "Testing error:  4528.166995543476\n"
     ]
    }
   ],
   "source": [
    "training_pred=theta_s[0]+theta_s[1]*training_x_values+theta_s[2]*(training_x_values**2)\n",
    "training_error=calc_error(training_y_values,training_pred)\n",
    "#errors[0,1]=training_error\n",
    "print(\"Training error: \",training_error)\n",
    "\n",
    "validation_pred=theta_s[0]+theta_s[1]*validation_x_values+theta_s[2]*(validation_x_values**2)\n",
    "validation_error=calc_error(validation_y_values,validation_pred)\n",
    "#errors[1,1]=validation_error\n",
    "print(\"Validation error: \",validation_error)\n",
    "\n",
    "testing_pred=theta_s[0]+theta_s[1]*testing_x_values+theta_s[2]*(testing_x_values**2)\n",
    "testing_error=calc_error(testing_y_values,testing_pred)\n",
    "#errors[2,1]=testing_error\n",
    "print(\"Testing error: \",testing_error)\n"
   ]
  },
  {
   "cell_type": "code",
   "execution_count": 1461,
   "id": "a08c8397",
   "metadata": {},
   "outputs": [
    {
     "data": {
      "text/plain": [
       "[<matplotlib.lines.Line2D at 0x7faa61f1f760>]"
      ]
     },
     "execution_count": 1461,
     "metadata": {},
     "output_type": "execute_result"
    },
    {
     "data": {
      "image/png": "[encoded data removed]",
      "text/plain": [
       "<Figure size 432x288 with 1 Axes>"
      ]
     },
     "metadata": {
      "needs_background": "light"
     },
     "output_type": "display_data"
    }
   ],
   "source": [
    "plt.plot(error_gd)"
   ]
  },
  {
   "cell_type": "markdown",
   "id": "27d593df",
   "metadata": {},
   "source": [
    "Q4 c"
   ]
  },
  {
   "cell_type": "code",
   "execution_count": 1319,
   "id": "7d8381c4",
   "metadata": {},
   "outputs": [
    {
     "ename": "KeyboardInterrupt",
     "evalue": "",
     "output_type": "error",
     "traceback": [
      "\u001b[0;31m---------------------------------------------------------------------------\u001b[0m",
      "\u001b[0;31mKeyboardInterrupt\u001b[0m                         Traceback (most recent call last)",
      "\u001b[0;32m<ipython-input-1319-d6b5b22eab35>\u001b[0m in \u001b[0;36m<module>\u001b[0;34m\u001b[0m\n\u001b[1;32m     41\u001b[0m     \u001b[0;32mreturn\u001b[0m \u001b[0mnew_theta\u001b[0m\u001b[0;34m\u001b[0m\u001b[0;34m\u001b[0m\u001b[0m\n\u001b[1;32m     42\u001b[0m \u001b[0;34m\u001b[0m\u001b[0m\n\u001b[0;32m---> 43\u001b[0;31m \u001b[0mtheta_new\u001b[0m\u001b[0;34m=\u001b[0m\u001b[0mgradient_descent_4\u001b[0m\u001b[0;34m(\u001b[0m\u001b[0mcalc_design_matrix_3d\u001b[0m\u001b[0;34m(\u001b[0m\u001b[0mtraining_x_values\u001b[0m\u001b[0;34m)\u001b[0m\u001b[0;34m,\u001b[0m\u001b[0;36m0.1\u001b[0m\u001b[0;34m,\u001b[0m\u001b[0mtraining_y_values\u001b[0m\u001b[0;34m,\u001b[0m\u001b[0;36m0.000005\u001b[0m\u001b[0;34m)\u001b[0m\u001b[0;34m\u001b[0m\u001b[0;34m\u001b[0m\u001b[0m\n\u001b[0m\u001b[1;32m     44\u001b[0m \u001b[0mprint\u001b[0m\u001b[0;34m(\u001b[0m\u001b[0mtheta_new\u001b[0m\u001b[0;34m)\u001b[0m\u001b[0;34m\u001b[0m\u001b[0;34m\u001b[0m\u001b[0m\n",
      "\u001b[0;32m<ipython-input-1319-d6b5b22eab35>\u001b[0m in \u001b[0;36mgradient_descent_4\u001b[0;34m(design_matrix, stop, y_val, alpha)\u001b[0m\n\u001b[1;32m     36\u001b[0m \u001b[0;34m\u001b[0m\u001b[0m\n\u001b[1;32m     37\u001b[0m             \u001b[0mnew_theta\u001b[0m\u001b[0;34m=\u001b[0m\u001b[0mnew_theta\u001b[0m\u001b[0;34m-\u001b[0m\u001b[0malpha\u001b[0m\u001b[0;34m*\u001b[0m\u001b[0;34m(\u001b[0m\u001b[0my\u001b[0m\u001b[0;34m-\u001b[0m\u001b[0my_val\u001b[0m\u001b[0;34m[\u001b[0m\u001b[0mi\u001b[0m\u001b[0;34m]\u001b[0m\u001b[0;34m)\u001b[0m\u001b[0;34m*\u001b[0m\u001b[0minputs\u001b[0m\u001b[0;34m\u001b[0m\u001b[0;34m\u001b[0m\u001b[0m\n\u001b[0;32m---> 38\u001b[0;31m             \u001b[0;32mif\u001b[0m\u001b[0;34m(\u001b[0m\u001b[0mnp\u001b[0m\u001b[0;34m.\u001b[0m\u001b[0mlinalg\u001b[0m\u001b[0;34m.\u001b[0m\u001b[0mnorm\u001b[0m\u001b[0;34m(\u001b[0m\u001b[0mnew_theta\u001b[0m\u001b[0;34m-\u001b[0m\u001b[0mold_theta\u001b[0m\u001b[0;34m,\u001b[0m\u001b[0;36m2\u001b[0m\u001b[0;34m)\u001b[0m\u001b[0;34m>\u001b[0m\u001b[0mstop\u001b[0m\u001b[0;34m)\u001b[0m\u001b[0;34m:\u001b[0m\u001b[0;34m\u001b[0m\u001b[0;34m\u001b[0m\u001b[0m\n\u001b[0m\u001b[1;32m     39\u001b[0m                 \u001b[0;32mbreak\u001b[0m\u001b[0;34m\u001b[0m\u001b[0;34m\u001b[0m\u001b[0m\n\u001b[1;32m     40\u001b[0m \u001b[0;34m\u001b[0m\u001b[0m\n",
      "\u001b[0;31mKeyboardInterrupt\u001b[0m: "
     ]
    }
   ],
   "source": [
    "#i\n",
    "\n",
    "def calc_design_matrix_3d(x):\n",
    "    design_matrix=[]\n",
    "    for i in x:\n",
    "        row=[1,i,i**2,i**3]\n",
    "        design_matrix.append(row)\n",
    "\n",
    "    design_matrix=np.array(design_matrix)\n",
    "    return design_matrix\n",
    "\"\"\"\n",
    "training_design_matrix_3d=calc_design_matrix_3d(training_x_values)\n",
    "#init_theta=np.random.uniform(0,1,4)\n",
    "init_theta=np.array([0.1,0.1,0.1,0.1])\n",
    "theta_gd_3d,cost_gd_3d=gradient_decent_2(training_design_matrix_3d,training_y_values,0.00005,init_theta,40)\n",
    "print(theta_gd_3d)\n",
    "\n",
    "sorted_data=np.sort(data)\n",
    "plt.scatter(data,y_vals,color=\"blue\")\n",
    "plt.plot(sorted_data,theta_gd_3d[0]+theta_gd_3d[1]*sorted_data+theta_gd_3d[2]*(sorted_data**2),theta_gd_3d[3]*(sorted_data**3),color=\"red\")\n",
    "\"\"\"\n",
    "def gradient_descent_4(design_matrix,stop,y_val,alpha):\n",
    "    num_of_theta=design_matrix.shape[1]\n",
    "    new_theta=np.repeat(0.5,num_of_theta)\n",
    "    old_theta=np.repeat(99999,num_of_theta)\n",
    "\n",
    "    if(len(design_matrix)!=len(y_val)):\n",
    "        print(\"Wrong\")\n",
    "        return[]\n",
    "    num_data_point=len(y_val)\n",
    "    while(np.linalg.norm(new_theta-old_theta,2)>stop):\n",
    "        for i in range(num_data_point):\n",
    "            old_theta=new_theta\n",
    "            inputs=design_matrix[i]\n",
    "            y=new_theta[2]*inputs[2]+new_theta[1]*inputs[1]+new_theta[0]\n",
    "\n",
    "            new_theta=new_theta-alpha*(y-y_val[i])*inputs\n",
    "            if(np.linalg.norm(new_theta-old_theta,2)>stop):\n",
    "                break\n",
    "    \n",
    "    return new_theta\n",
    "\n",
    "theta_new=gradient_descent_4(calc_design_matrix_3d(training_x_values),0.1,training_y_values,0.000005)\n",
    "print(theta_new)\n"
   ]
  },
  {
   "cell_type": "code",
   "execution_count": 1297,
   "id": "521548ba",
   "metadata": {},
   "outputs": [
    {
     "name": "stdout",
     "output_type": "stream",
     "text": [
      "Training error = 3.7206671262258596e+126\n",
      "Validation error = 1.57429421455583e+125\n",
      "Testing error = 1.308618404504567e+134\n"
     ]
    }
   ],
   "source": [
    "# error\n",
    "training_predicted = theta_gd_3[0] + theta_gd_3[1] * training_x_values + theta_gd_3[2] * (training_x_values**2) + theta_gd_3[3] * (training_x_values ** 3)\n",
    "training_error = calc_error(training_y_values, training_predicted)\n",
    "errors[0,2] = training_error\n",
    "print(\"Training error =\", training_error)\n",
    "valid_predicted = theta_gd_3[0] + theta_gd_3[1] * validation_x_values +theta_gd_3[2] * (validation_x_values**2) + theta_gd_3[3] * (validation_x_values**3)\n",
    "valid_error = calc_error(validation_y_values, valid_predicted)\n",
    "errors[1,2] = valid_error\n",
    "print(\"Validation error =\", valid_error)\n",
    "test_predicted = theta_gd_3[0] +theta_gd_3[1] * testing_x_values + theta_gd_3[2] * (testing_x_values ** 2) +theta_gd_3[3] * (testing_y_values ** 3)\n",
    "test_error = calc_error(testing_y_values, test_predicted)\n",
    "errors[2,2] = test_error\n",
    "print(\"Testing error =\", test_error)"
   ]
  },
  {
   "cell_type": "code",
   "execution_count": 1337,
   "id": "156e34bd",
   "metadata": {},
   "outputs": [
    {
     "name": "stdout",
     "output_type": "stream",
     "text": [
      "[0.10133787732874547, 0.10294174080565988, 0.5345941690852173, -0.0009274494052518836]\n",
      "\n",
      "90\n",
      "50\n"
     ]
    },
    {
     "data": {
      "text/plain": [
       "[<matplotlib.lines.Line2D at 0x7faa5e0245e0>,\n",
       " <matplotlib.lines.Line2D at 0x7faa5e024610>]"
      ]
     },
     "execution_count": 1337,
     "metadata": {},
     "output_type": "execute_result"
    },
    {
     "data": {
      "image/png": "[encoded data removed]",
      "text/plain": [
       "<Figure size 432x288 with 1 Axes>"
      ]
     },
     "metadata": {
      "needs_background": "light"
     },
     "output_type": "display_data"
    }
   ],
   "source": [
    "def gradient_decent_manual(design_matrix,y_vals,alpha,theta,stop):\n",
    "    theta0=theta[0]\n",
    "    theta1=theta[1]\n",
    "    theta2=theta[2]\n",
    "    theta3=theta[3]\n",
    "    #predicted_vals_final=[]\n",
    "    store_error_totals=[]\n",
    "    for i in range(stop):\n",
    "        predicted_vals=[]\n",
    "        for j in range(len(design_matrix)):\n",
    "            predicted_val=theta0+(theta1*design_matrix[j])+(theta2*(design_matrix[j]**2)+(theta3*design_matrix[j]**3))\n",
    "            loss=predicted_val-y_vals[j]\n",
    "            predicted_vals.append(predicted_val)\n",
    "            theta0=theta0-alpha*(loss)\n",
    "            theta1=theta1-alpha*(loss)*(design_matrix[j])\n",
    "            theta2=theta2-alpha*(loss)*(design_matrix[j]**2)\n",
    "            theta3=theta3-alpha*(loss)*(design_matrix[j]**3)\n",
    "        \n",
    "        store_error_totals.append(calc_error(y_vals,predicted_vals))\n",
    "\n",
    "\n",
    "    theta=[theta0,theta1,theta2,theta3]\n",
    "    return [theta,store_error_totals]\n",
    "\n",
    "training_design_matrix=calc_design_matrix(training_x_values)\n",
    "theta_s,error_gd=gradient_decent_manual(training_x_values,training_y_values,0.000000005,[0.1,0.1,0.1,0.1],50)\n",
    "\n",
    "print(theta_s)\n",
    "print()\n",
    "print(len(training_y_values))\n",
    "print(len(error_gd))\n",
    "\n",
    "sorted_data=np.sort(data)\n",
    "plt.scatter(data,y_vals,color=\"blue\")\n",
    "plt.plot(sorted_data,theta_s[0]+theta_s[1]*sorted_data+theta_s[2]*(sorted_data**2),theta_s[3]*(sorted_data**3),color=\"red\")\n"
   ]
  }
 ],
 "metadata": {
  "kernelspec": {
   "display_name": "Python 3",
   "language": "python",
   "name": "python3"
  },
  "language_info": {
   "codemirror_mode": {
    "name": "ipython",
    "version": 3
   },
   "file_extension": ".py",
   "mimetype": "text/x-python",
   "name": "python",
   "nbconvert_exporter": "python",
   "pygments_lexer": "ipython3",
   "version": "3.8.8"
  }
 },
 "nbformat": 4,
 "nbformat_minor": 5
}
